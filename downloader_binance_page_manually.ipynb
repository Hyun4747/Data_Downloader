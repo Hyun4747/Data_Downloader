{
 "cells": [
  {
   "cell_type": "code",
   "execution_count": null,
   "id": "29028f40",
   "metadata": {},
   "outputs": [],
   "source": [
    "pip install wget"
   ]
  },
  {
   "cell_type": "code",
   "execution_count": 2,
   "id": "1d5a6482-85f4-4a63-81be-aea63ddcae48",
   "metadata": {},
   "outputs": [],
   "source": [
    "import os\n",
    "import wget\n",
    "import shutil\n",
    "import zipfile\n",
    "from urllib.error import HTTPError\n",
    "from datetime import datetime\n",
    "\n",
    "import pandas as pd"
   ]
  },
  {
   "cell_type": "code",
   "execution_count": 36,
   "id": "941c82f5-2dda-449f-a99c-139826b6904a",
   "metadata": {},
   "outputs": [
    {
     "name": "stdout",
     "output_type": "stream",
     "text": [
      "100% [............................................................] 4194 / 4194"
     ]
    }
   ],
   "source": [
    "coin_list = [\"ZRXUSDT\", \"1INCHUSDT\", 'AAVEUSDT', \"BTCUSDT\", \"ETHUSDT\"]\n",
    "\n",
    "for coin in coin_list:\n",
    "    temp_dir = os.path.join('.', 'temp')\n",
    "    os.makedirs(temp_dir, exist_ok=True)\n",
    "\n",
    "    date_range = pd.date_range(start='2021-01-01', end='2023-12-31')\n",
    "\n",
    "    df = pd.DataFrame()\n",
    "\n",
    "    for date in date_range:\n",
    "        try:\n",
    "            f = wget.download(f'https://data.binance.vision/data/spot/daily/klines/{coin}/1m/{coin}-1m-{str(date.date())}.zip', out=temp_dir)\n",
    "            temp_df = pd.read_csv(zipfile.ZipFile(f).extract(f.replace('zip', 'csv').split('/')[-1], temp_dir), header=None, index_col=0)\n",
    "            df = pd.concat([df, temp_df], axis=0)\n",
    "        except HTTPError:\n",
    "            continue\n",
    "\n",
    "    shutil.rmtree(temp_dir, ignore_errors=True)\n",
    "\n",
    "    df = df.reset_index()\n",
    "    df.columns = [\"Open time\", \"Open\", \"High\", \"Low\", \"Close\", \"Volume\", \"Close time\", \"Quote asset volume\", \"Number of trades\", \"Taker buy base asset volume\", \"Taker buy quote asset volume\", \"Ignore\"]\n",
    "    df = df.drop(labels = 'Ignore', axis =1)\n",
    "    df.to_csv(f'/Users/chunghyunhan/Desktop/HaechiLabs/Price_Data/{coin}.csv', index=False)\n"
   ]
  },
  {
   "cell_type": "code",
   "execution_count": 1,
   "id": "bbe56d8d",
   "metadata": {},
   "outputs": [],
   "source": [
    "coin =[\"BUSDDAI\", \"BUSDUSDT\", \"BUSDVAI\", \"USDTDAI\", \"USDCBUSD\", \"USDCUSDT\", \"USDPBUSD\", \"USDPUSDT\", \"TUSDBUSD\", \"TUSDUSDT\", \"USDPBUSD\", \"USDPUSDT\", \"SUSDBTC\", \"SUSDUSDT\"]"
   ]
  },
  {
   "cell_type": "code",
   "execution_count": 4,
   "id": "0d349db9",
   "metadata": {},
   "outputs": [
    {
     "data": {
      "text/plain": [
       "14"
      ]
     },
     "execution_count": 4,
     "metadata": {},
     "output_type": "execute_result"
    }
   ],
   "source": [
    "len(coin)"
   ]
  },
  {
   "cell_type": "code",
   "execution_count": null,
   "id": "ed64349d",
   "metadata": {},
   "outputs": [],
   "source": []
  }
 ],
 "metadata": {
  "kernelspec": {
   "display_name": "Python 3 (ipykernel)",
   "language": "python",
   "name": "python3"
  },
  "language_info": {
   "codemirror_mode": {
    "name": "ipython",
    "version": 3
   },
   "file_extension": ".py",
   "mimetype": "text/x-python",
   "name": "python",
   "nbconvert_exporter": "python",
   "pygments_lexer": "ipython3",
   "version": "3.11.9"
  }
 },
 "nbformat": 4,
 "nbformat_minor": 5
}
