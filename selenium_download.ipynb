{
 "cells": [
  {
   "cell_type": "code",
   "execution_count": 86,
   "metadata": {},
   "outputs": [],
   "source": [
    "import selenium\n",
    "from selenium import webdriver\n",
    "from selenium.webdriver import ActionChains\n",
    "\n",
    "from selenium.webdriver.common.keys import Keys\n",
    "from selenium.webdriver.common.by import By\n",
    "\n",
    "from selenium.webdriver import ChromeOptions\n",
    "from selenium.webdriver.chrome.options import Options\n",
    "from selenium.webdriver.support import expected_conditions as EC\n",
    "from selenium.webdriver.support.ui import Select\n",
    "from selenium.webdriver.support.ui import WebDriverWait\n",
    "import time\n",
    "\n",
    "from collections import Counter \n",
    "\n",
    "import pandas as pd\n",
    "import os"
   ]
  },
  {
   "cell_type": "code",
   "execution_count": 82,
   "metadata": {},
   "outputs": [
    {
     "name": "stdout",
     "output_type": "stream",
     "text": [
      "['Qma8KF8jTV3kwBFdjfwE9jvLpPYVMdY6RVS9pJZ6QGEur6', 'QmZUeeJEoEp4Z1oLzMcXbWJyu4WNvHF9p8uHjz97T5nD3m', 'QmShiKX75iBo321NKLG9tFFb3EuNM58i8kvWaYLp1HBwCR', 'QmaKjvEAUL5RxoZeNQJKJZR8rHxiE6XNzzVrm1oLCr69MV', 'QmcZGhUoTEGGQWMrEXBcCwCenjSQRTJdhta4JYyVEWnN24', 'QmU5sggJNTQmSQtxecdsAJxXn9fgSwYz1dXpSpDcgwAqqy', 'QmWe6Krc81pkCtQFbd2AxytFCp1imLGUnFTEEom9YNwFte', 'Qmehop1NNWP9VEf7tGLEAYRphVsXtdxkL7oKEhaXL2Xao6', 'QmVXXEXJJKjFJtwXyy4Xx3gBckhz6TvorZoLgX3yiB7Hki', 'QmNPvJSYqtpN8JeReGACfPJNx7yXZrsrcAKDsjHvbx3Pu3', 'Qme9MASbuzrX2W6o7e4CCKqQiLGS5yuBLmX8wkeM5awcio', 'QmTj8EWNTTinpDa9aXZdVkhzPBXD2monu6ZFV1dfoojR2f', 'QmaUPBYqkiKnwkaVNVrUDpD6fk5EXXTqJjn71qHNYW4YQn', 'QmXDNKm4feLGUXCdtHjHZYrNTMsysEhP34nRYFSM3HhKVT', 'QmZcfEhN6xx6mMyo6ins4pSMga7N3o14fW4VtFzYTRHuLj', 'QmQbcxLpGENeDauCAsh3BXy9H9fiiK46JEfnLqG3s8iMbN', 'QmbVVJ57NFq9ipgt3YY9S1NyN5s5ziswgHSPWfXNvuzwgx', 'QmPe3FKu44mtGKvKmBDxVGkV9256BCcTf7TZ4cfugYdqRn', 'QmX6y6Koqc82o7TSSnmw793RbyJMUfrRStr1wsTvCy4Ynj', 'QmUrYMZrS97ZA5FeSAgs6xk7qNong5pjwXkQyYi7M6WmkC', 'Qmeza7LnzTLAGhHeA2psNtf1ua4kgm2Q1NHAMPeVzs5C2i', 'QmWbGN8xaYzBpnJ4DKg245XXKQ68FSqpFxvDGKnNHQjKdj', 'QmTyWBn3PcBcFeuwKcjwAu5DZypVTK3aGuQ6EGQPFghgtX', 'QmTksCuBh2HLMKSXUE7yyCHGE9dCevac9oEWnkef8Junn2', 'QmVnsMXvSG84x3u2iYZ3nGWeXU4pRcfuKWwXnyjpD9j6To', 'QmRKpArENVfj7bUaXuEj2QUqZCB5ZJGc9VDmNvyfTKnAKf', 'QmScNLeajiF2hQh1z9DYqTFKGgrRhHwrHisV4ynmDEQwxH', 'QmUMGd8r249PEEbVkF8z7ftEyvRBhtFA3T3oHMxhSJcFJ9', 'QmWbgzHJ8nK2TDaj6LF6BxAMPahy97dMmbbU5kRBw1QkXt', 'QmYeNLn1x2AxfzrU2G4nkxDRBDju9f4EF2dzs2xAqBoK31', 'QmcpJ8Qm9V4LfK5ncpPvGpCEkzt2uV9jahueX2CR9YLGVv', 'QmRKyYeGRFAhBnsqRXHVVwpmmVWxWdybUTVqLM7c52EonT', 'QmP3H8WGLiWTP2WumKyrq8yA1xz1XbwkT8brdGYePuAcES', '0x9238864aae86f3f7430670dab6c2b4afd793ddcdabe8e2dffe0964d41a3919aa', '0xe377d2b8e245404c42a6892be4232e017bf44b7fcc2e72426aa95ea5a4e01783', '0x47a6eed75673f33e8eb5d7abbfc0279d8c113ec7fa51f8b61c1abcd66dc091c6', '0xfb9841f0cd2111b078ffbcc9efe5a0d552907ee290b0851c8d69350b26530ed0', '0xe869bc63ed483f00c520129724934a206b433dec613a498100e25f9f10fbeac7', '0xc1aec11c9ac5698920072a5de807284a56becbadfb7bef68b2618ad00e61547c', '0x1994d4598b81dbb511bc7068f65a12fdf0ddbf2b26f5b7313e087750c5f9c0b7', '0x4f42b3215c4028edd947dc69980a9b8ba837ffbe3d0caa60d999406d634c8e79', '0xbfeb7f3c4a3f1d4979b59129f9a78ee217183b0656a480612d261233fb3f8c62', '0xe3d59b3439ac0519b02ff39606e0ad571cc9fa7a05b334b6f87df09b2c883879', '0x68ed38529f4d81957cf30a3c441b93d321dcf14273c2e2f3aa32617bd1ac65fe', 'Qmcs5pAv7eGBzqGn1G8LJGusME3t7bTCSfZjdyWmw88LaM', '0x85a309c742abb3daf8e2d73a6c940c5315b3bf42ab8a8b22340d6e91cb3e8bde', '0x92a16fbf16e7b113700bb2a20b3ca1b71ce678c4b818983e7412eb059cff776a', '0x4fdc5d5c87669d3c99072541e1c775f8dee9b906241b2ce22203737b608c8e55', '0xa5b0e54358d8a0bff4b90461873cd4bec83e57d7b87f2e18b9a4ff81539b21ca', 'QmWhemJom3RZdH91rBPmjvAFZEr9HdFRSFVNtAae6kgbyE', 'QmZ2D27uouvVEHGuRvydwmwepgL2PEXbGzYAXqYr9bMwLo', '0xb328c7583c0f1ea85f8a273dd36977c95e47c3713744caf7143e68b65efcc8a5', 'QmaG6nJYW3xLeQwAa6xxhpbuYS8h6PVQpbx1vfqpqxAtik', 'QmcVpxCSkL8rPmZgow8uL2GbdPZtUKS3huY9aSExKNfEK6', '0x729c19f1cafab8ed884914549e147ef401532cf6680e340a1aa0c8cc65f35f09', '0x7f196c3444623a33ac147d1676d84e45d3c4c56a94baa85547b77d6fab82faab', 'QmV8ZeseHEoAcGj51kGaC6gVF2BkL9BHACJDAaQ74uiaJi', '0x1bf2c3fb48e31f4e006ce6349967088fc726cbf1d1518eca60babfe44e9e2895', '0x4dd49ee723a7e506c6c6c15c8eabc8a7057f3f0760e44ed2f475d42203c4e3e8', '0xe9f8e5dd7ec26f7c0e7dd9e19bb8d57497d27d4a74be01cd3cad159cf3901b7f', '0xee4851601143b1e9655be7168ca2d0f119fba31afadf2a7f808ea12b7bb4e9df', '0xd70b3e84db501c2633bc8189fcfc335726fce90584a3c37f6155580369f11023', '0x2f72d9f247d9ce143809bbb4af7f5b36aa50895e517cc32096b15b18b40e3191', '0xab1dbb6e3486073b81cc64b81d15d24a7bf82efcfc94e533de0779250df06ba9', '0xe6ad2033b04559b3db6be7fa9993f05ee68f43f1061c632382c88e367e76bfb1', '0x8db45283c71ed4f72e5834212a10963b1b4a53527a175472ba8cc4ecdeebc6a2', '0x255d43357e17858f8664ffaaeaf7660bfd8be5f7dabc414edf98d3fadb3f1588', '0x5387b0756442268d283d4ac7f3f4bc4cc0204c5e47b9708e5128fcbdea2d0cd1', '0xe523d31000db5ecb16b002efd2ee984b958928b01cee140212eefc3ed5bcdfcd', '0xa4a21c808b28a61562c6b4ebf5b71c0cd37ee2d630bcbdf91ffaf5f683cc650f', '0x31c3409c09f5561d6aff1e0adeee6c83a5e73768a5d5c3e01b2a48a3894eda54', '0x5ad7208d9ccad93dbc96abc12bfeffcfe83e96b9782e5135727cdaaf494d70f3', '0x387b5e811e9673359b98729af5c7f14a50b7d0ea9b4dcf9278686b238932e25d', '0x8cd74072d4ae997c11fe5351c3a8c3fcd05440091858c1ced911bb2e9043c3bb', '0xfd3d3807bd2a6eda1327c311b83de235061d39ff1bdfb616c9f9b0d367c3ac2c', '0xa3c7247632d3a08e4e73a63867908d0cd4402f48fa673945f93e3197dee5450a', '0x6b8df360fdf73085b21fdf5eef9f85916fbde95621a3d454cb20fbe545ffc852', '0x15031b68121659b87a3f5e33c303cd517bcbc003d3f60fc82f1299620475bcab', '0x374d7f9ba673e65d6a85c3cfcc082fd3ad22ca5d8f9f44ac14e1d67154640d90', '0x9db793de052692853aa3749920e1c7161de0eead4730c3fef516bc11eb829879', '0x3447c5c95e70304122194efb2874757059f0851cc7449e58682f48a25e4ce7ba', '0xbadf3b39b681c98ba8fb988d5b6c9454ebeb5aae88545a6a852d0734e9f7c957', '0xa47404722b9c8a6fb850cf5de79e8a95f073f06393290949644a627bfe85bced', '0xbab5cd9d9cc5123ea5da8eb45e321463f1a0fd2543dc17587db1f24099d90dfc', '0x63f6c44e4245e5b90a0f30ebb6932506879f68b149a5f78fd2186125c9144535', '0xdc3e034f9b7c876736f1b629c7c9ff9c466205dfe075607d70e69b6af2fa87ef', '0x0f8a85d90759acf3a6fdc018e20b991f3562847122a8142c4e166c71d0e755e3', '0x73021d63f985aba8e42c67165f80c0027a591980a5cc372cda9637bdf2173f95', '0xb471984c1daef6742be4d4983339af7ad140c3dfcfc883508fd975f5abe0e8c9', '0xa47a49305ab418cb2ceb9da1290cbe022671d5feeb5e2a344bfcd1edbe0720d6', '0x4b362044000714197ab43d5f2155977976dcc7cf1cb28d945e1168ae7ac61f90', '0xac6b9ebb8cff7817fdf144119742e474dfeec984632ab374727770579e2653ed', '0xb643c2ccb468812901c9490dbb31c5aada0140e83d0f6ce30e04fc7a237748e8', '0x36a17f6c311f3d910bc11cb4cd55891a7e6c71facd04e7bffcfb267fdd88c45b', '0x98e08d94e1174b0bfa2350c616d3cf2fb8f5e56c56c03dc0ae58fd29a6b29265', '0x86ded24b11c4714e0f4f2b6e4ca489f60dc33e6f2f4ababa5575bf5ab973a005']\n",
      "96\n"
     ]
    }
   ],
   "source": [
    "csv_file = \"C:/Users/Administrator/Desktop/chunghyun/python/DAO_voting/Uniswap_proposals_snapshot.csv\"\n",
    "df = pd.read_csv(csv_file)\n",
    "\n",
    "# Extracting Proposal ID list \n",
    "proposal_ID_list = df['id'].tolist()\n",
    "print(proposal_ID_list)\n",
    "print(len(proposal_ID_list))"
   ]
  },
  {
   "cell_type": "code",
   "execution_count": 57,
   "metadata": {},
   "outputs": [
    {
     "name": "stdout",
     "output_type": "stream",
     "text": [
      "['https://snapshot.org/#/uniswap/proposal/Qma8KF8jTV3kwBFdjfwE9jvLpPYVMdY6RVS9pJZ6QGEur6', 'https://snapshot.org/#/uniswap/proposal/QmZUeeJEoEp4Z1oLzMcXbWJyu4WNvHF9p8uHjz97T5nD3m', 'https://snapshot.org/#/uniswap/proposal/QmShiKX75iBo321NKLG9tFFb3EuNM58i8kvWaYLp1HBwCR', 'https://snapshot.org/#/uniswap/proposal/QmaKjvEAUL5RxoZeNQJKJZR8rHxiE6XNzzVrm1oLCr69MV', 'https://snapshot.org/#/uniswap/proposal/QmcZGhUoTEGGQWMrEXBcCwCenjSQRTJdhta4JYyVEWnN24', 'https://snapshot.org/#/uniswap/proposal/QmU5sggJNTQmSQtxecdsAJxXn9fgSwYz1dXpSpDcgwAqqy', 'https://snapshot.org/#/uniswap/proposal/QmWe6Krc81pkCtQFbd2AxytFCp1imLGUnFTEEom9YNwFte', 'https://snapshot.org/#/uniswap/proposal/Qmehop1NNWP9VEf7tGLEAYRphVsXtdxkL7oKEhaXL2Xao6', 'https://snapshot.org/#/uniswap/proposal/QmVXXEXJJKjFJtwXyy4Xx3gBckhz6TvorZoLgX3yiB7Hki', 'https://snapshot.org/#/uniswap/proposal/QmNPvJSYqtpN8JeReGACfPJNx7yXZrsrcAKDsjHvbx3Pu3', 'https://snapshot.org/#/uniswap/proposal/Qme9MASbuzrX2W6o7e4CCKqQiLGS5yuBLmX8wkeM5awcio', 'https://snapshot.org/#/uniswap/proposal/QmTj8EWNTTinpDa9aXZdVkhzPBXD2monu6ZFV1dfoojR2f', 'https://snapshot.org/#/uniswap/proposal/QmaUPBYqkiKnwkaVNVrUDpD6fk5EXXTqJjn71qHNYW4YQn', 'https://snapshot.org/#/uniswap/proposal/QmXDNKm4feLGUXCdtHjHZYrNTMsysEhP34nRYFSM3HhKVT', 'https://snapshot.org/#/uniswap/proposal/QmZcfEhN6xx6mMyo6ins4pSMga7N3o14fW4VtFzYTRHuLj', 'https://snapshot.org/#/uniswap/proposal/QmQbcxLpGENeDauCAsh3BXy9H9fiiK46JEfnLqG3s8iMbN', 'https://snapshot.org/#/uniswap/proposal/QmbVVJ57NFq9ipgt3YY9S1NyN5s5ziswgHSPWfXNvuzwgx', 'https://snapshot.org/#/uniswap/proposal/QmPe3FKu44mtGKvKmBDxVGkV9256BCcTf7TZ4cfugYdqRn', 'https://snapshot.org/#/uniswap/proposal/QmX6y6Koqc82o7TSSnmw793RbyJMUfrRStr1wsTvCy4Ynj', 'https://snapshot.org/#/uniswap/proposal/QmUrYMZrS97ZA5FeSAgs6xk7qNong5pjwXkQyYi7M6WmkC', 'https://snapshot.org/#/uniswap/proposal/Qmeza7LnzTLAGhHeA2psNtf1ua4kgm2Q1NHAMPeVzs5C2i', 'https://snapshot.org/#/uniswap/proposal/QmWbGN8xaYzBpnJ4DKg245XXKQ68FSqpFxvDGKnNHQjKdj', 'https://snapshot.org/#/uniswap/proposal/QmTyWBn3PcBcFeuwKcjwAu5DZypVTK3aGuQ6EGQPFghgtX', 'https://snapshot.org/#/uniswap/proposal/QmTksCuBh2HLMKSXUE7yyCHGE9dCevac9oEWnkef8Junn2', 'https://snapshot.org/#/uniswap/proposal/QmVnsMXvSG84x3u2iYZ3nGWeXU4pRcfuKWwXnyjpD9j6To', 'https://snapshot.org/#/uniswap/proposal/QmRKpArENVfj7bUaXuEj2QUqZCB5ZJGc9VDmNvyfTKnAKf', 'https://snapshot.org/#/uniswap/proposal/QmScNLeajiF2hQh1z9DYqTFKGgrRhHwrHisV4ynmDEQwxH', 'https://snapshot.org/#/uniswap/proposal/QmUMGd8r249PEEbVkF8z7ftEyvRBhtFA3T3oHMxhSJcFJ9', 'https://snapshot.org/#/uniswap/proposal/QmWbgzHJ8nK2TDaj6LF6BxAMPahy97dMmbbU5kRBw1QkXt', 'https://snapshot.org/#/uniswap/proposal/QmYeNLn1x2AxfzrU2G4nkxDRBDju9f4EF2dzs2xAqBoK31', 'https://snapshot.org/#/uniswap/proposal/QmcpJ8Qm9V4LfK5ncpPvGpCEkzt2uV9jahueX2CR9YLGVv', 'https://snapshot.org/#/uniswap/proposal/QmRKyYeGRFAhBnsqRXHVVwpmmVWxWdybUTVqLM7c52EonT', 'https://snapshot.org/#/uniswap/proposal/QmP3H8WGLiWTP2WumKyrq8yA1xz1XbwkT8brdGYePuAcES', 'https://snapshot.org/#/uniswap/proposal/0x9238864aae86f3f7430670dab6c2b4afd793ddcdabe8e2dffe0964d41a3919aa', 'https://snapshot.org/#/uniswap/proposal/0xe377d2b8e245404c42a6892be4232e017bf44b7fcc2e72426aa95ea5a4e01783', 'https://snapshot.org/#/uniswap/proposal/0x47a6eed75673f33e8eb5d7abbfc0279d8c113ec7fa51f8b61c1abcd66dc091c6', 'https://snapshot.org/#/uniswap/proposal/0xfb9841f0cd2111b078ffbcc9efe5a0d552907ee290b0851c8d69350b26530ed0', 'https://snapshot.org/#/uniswap/proposal/0xe869bc63ed483f00c520129724934a206b433dec613a498100e25f9f10fbeac7', 'https://snapshot.org/#/uniswap/proposal/0xc1aec11c9ac5698920072a5de807284a56becbadfb7bef68b2618ad00e61547c', 'https://snapshot.org/#/uniswap/proposal/0x1994d4598b81dbb511bc7068f65a12fdf0ddbf2b26f5b7313e087750c5f9c0b7', 'https://snapshot.org/#/uniswap/proposal/0x4f42b3215c4028edd947dc69980a9b8ba837ffbe3d0caa60d999406d634c8e79', 'https://snapshot.org/#/uniswap/proposal/0xbfeb7f3c4a3f1d4979b59129f9a78ee217183b0656a480612d261233fb3f8c62', 'https://snapshot.org/#/uniswap/proposal/0xe3d59b3439ac0519b02ff39606e0ad571cc9fa7a05b334b6f87df09b2c883879', 'https://snapshot.org/#/uniswap/proposal/0x68ed38529f4d81957cf30a3c441b93d321dcf14273c2e2f3aa32617bd1ac65fe', 'https://snapshot.org/#/uniswap/proposal/Qmcs5pAv7eGBzqGn1G8LJGusME3t7bTCSfZjdyWmw88LaM', 'https://snapshot.org/#/uniswap/proposal/0x85a309c742abb3daf8e2d73a6c940c5315b3bf42ab8a8b22340d6e91cb3e8bde', 'https://snapshot.org/#/uniswap/proposal/0x92a16fbf16e7b113700bb2a20b3ca1b71ce678c4b818983e7412eb059cff776a', 'https://snapshot.org/#/uniswap/proposal/0x4fdc5d5c87669d3c99072541e1c775f8dee9b906241b2ce22203737b608c8e55', 'https://snapshot.org/#/uniswap/proposal/0xa5b0e54358d8a0bff4b90461873cd4bec83e57d7b87f2e18b9a4ff81539b21ca', 'https://snapshot.org/#/uniswap/proposal/QmWhemJom3RZdH91rBPmjvAFZEr9HdFRSFVNtAae6kgbyE', 'https://snapshot.org/#/uniswap/proposal/QmZ2D27uouvVEHGuRvydwmwepgL2PEXbGzYAXqYr9bMwLo', 'https://snapshot.org/#/uniswap/proposal/0xb328c7583c0f1ea85f8a273dd36977c95e47c3713744caf7143e68b65efcc8a5', 'https://snapshot.org/#/uniswap/proposal/QmaG6nJYW3xLeQwAa6xxhpbuYS8h6PVQpbx1vfqpqxAtik', 'https://snapshot.org/#/uniswap/proposal/QmcVpxCSkL8rPmZgow8uL2GbdPZtUKS3huY9aSExKNfEK6', 'https://snapshot.org/#/uniswap/proposal/0x729c19f1cafab8ed884914549e147ef401532cf6680e340a1aa0c8cc65f35f09', 'https://snapshot.org/#/uniswap/proposal/0x7f196c3444623a33ac147d1676d84e45d3c4c56a94baa85547b77d6fab82faab', 'https://snapshot.org/#/uniswap/proposal/QmV8ZeseHEoAcGj51kGaC6gVF2BkL9BHACJDAaQ74uiaJi', 'https://snapshot.org/#/uniswap/proposal/0x1bf2c3fb48e31f4e006ce6349967088fc726cbf1d1518eca60babfe44e9e2895', 'https://snapshot.org/#/uniswap/proposal/0x4dd49ee723a7e506c6c6c15c8eabc8a7057f3f0760e44ed2f475d42203c4e3e8', 'https://snapshot.org/#/uniswap/proposal/0xe9f8e5dd7ec26f7c0e7dd9e19bb8d57497d27d4a74be01cd3cad159cf3901b7f', 'https://snapshot.org/#/uniswap/proposal/0xee4851601143b1e9655be7168ca2d0f119fba31afadf2a7f808ea12b7bb4e9df', 'https://snapshot.org/#/uniswap/proposal/0xd70b3e84db501c2633bc8189fcfc335726fce90584a3c37f6155580369f11023', 'https://snapshot.org/#/uniswap/proposal/0x2f72d9f247d9ce143809bbb4af7f5b36aa50895e517cc32096b15b18b40e3191', 'https://snapshot.org/#/uniswap/proposal/0xab1dbb6e3486073b81cc64b81d15d24a7bf82efcfc94e533de0779250df06ba9', 'https://snapshot.org/#/uniswap/proposal/0xe6ad2033b04559b3db6be7fa9993f05ee68f43f1061c632382c88e367e76bfb1', 'https://snapshot.org/#/uniswap/proposal/0x8db45283c71ed4f72e5834212a10963b1b4a53527a175472ba8cc4ecdeebc6a2', 'https://snapshot.org/#/uniswap/proposal/0x255d43357e17858f8664ffaaeaf7660bfd8be5f7dabc414edf98d3fadb3f1588', 'https://snapshot.org/#/uniswap/proposal/0x5387b0756442268d283d4ac7f3f4bc4cc0204c5e47b9708e5128fcbdea2d0cd1', 'https://snapshot.org/#/uniswap/proposal/0xe523d31000db5ecb16b002efd2ee984b958928b01cee140212eefc3ed5bcdfcd', 'https://snapshot.org/#/uniswap/proposal/0xa4a21c808b28a61562c6b4ebf5b71c0cd37ee2d630bcbdf91ffaf5f683cc650f', 'https://snapshot.org/#/uniswap/proposal/0x31c3409c09f5561d6aff1e0adeee6c83a5e73768a5d5c3e01b2a48a3894eda54', 'https://snapshot.org/#/uniswap/proposal/0x5ad7208d9ccad93dbc96abc12bfeffcfe83e96b9782e5135727cdaaf494d70f3', 'https://snapshot.org/#/uniswap/proposal/0x387b5e811e9673359b98729af5c7f14a50b7d0ea9b4dcf9278686b238932e25d', 'https://snapshot.org/#/uniswap/proposal/0x8cd74072d4ae997c11fe5351c3a8c3fcd05440091858c1ced911bb2e9043c3bb', 'https://snapshot.org/#/uniswap/proposal/0xfd3d3807bd2a6eda1327c311b83de235061d39ff1bdfb616c9f9b0d367c3ac2c', 'https://snapshot.org/#/uniswap/proposal/0xa3c7247632d3a08e4e73a63867908d0cd4402f48fa673945f93e3197dee5450a', 'https://snapshot.org/#/uniswap/proposal/0x6b8df360fdf73085b21fdf5eef9f85916fbde95621a3d454cb20fbe545ffc852', 'https://snapshot.org/#/uniswap/proposal/0x15031b68121659b87a3f5e33c303cd517bcbc003d3f60fc82f1299620475bcab', 'https://snapshot.org/#/uniswap/proposal/0x374d7f9ba673e65d6a85c3cfcc082fd3ad22ca5d8f9f44ac14e1d67154640d90', 'https://snapshot.org/#/uniswap/proposal/0x9db793de052692853aa3749920e1c7161de0eead4730c3fef516bc11eb829879', 'https://snapshot.org/#/uniswap/proposal/0x3447c5c95e70304122194efb2874757059f0851cc7449e58682f48a25e4ce7ba', 'https://snapshot.org/#/uniswap/proposal/0xbadf3b39b681c98ba8fb988d5b6c9454ebeb5aae88545a6a852d0734e9f7c957', 'https://snapshot.org/#/uniswap/proposal/0xa47404722b9c8a6fb850cf5de79e8a95f073f06393290949644a627bfe85bced', 'https://snapshot.org/#/uniswap/proposal/0xbab5cd9d9cc5123ea5da8eb45e321463f1a0fd2543dc17587db1f24099d90dfc', 'https://snapshot.org/#/uniswap/proposal/0x63f6c44e4245e5b90a0f30ebb6932506879f68b149a5f78fd2186125c9144535', 'https://snapshot.org/#/uniswap/proposal/0xdc3e034f9b7c876736f1b629c7c9ff9c466205dfe075607d70e69b6af2fa87ef', 'https://snapshot.org/#/uniswap/proposal/0x0f8a85d90759acf3a6fdc018e20b991f3562847122a8142c4e166c71d0e755e3', 'https://snapshot.org/#/uniswap/proposal/0x73021d63f985aba8e42c67165f80c0027a591980a5cc372cda9637bdf2173f95', 'https://snapshot.org/#/uniswap/proposal/0xb471984c1daef6742be4d4983339af7ad140c3dfcfc883508fd975f5abe0e8c9', 'https://snapshot.org/#/uniswap/proposal/0xa47a49305ab418cb2ceb9da1290cbe022671d5feeb5e2a344bfcd1edbe0720d6', 'https://snapshot.org/#/uniswap/proposal/0x4b362044000714197ab43d5f2155977976dcc7cf1cb28d945e1168ae7ac61f90', 'https://snapshot.org/#/uniswap/proposal/0xac6b9ebb8cff7817fdf144119742e474dfeec984632ab374727770579e2653ed', 'https://snapshot.org/#/uniswap/proposal/0xb643c2ccb468812901c9490dbb31c5aada0140e83d0f6ce30e04fc7a237748e8', 'https://snapshot.org/#/uniswap/proposal/0x36a17f6c311f3d910bc11cb4cd55891a7e6c71facd04e7bffcfb267fdd88c45b', 'https://snapshot.org/#/uniswap/proposal/0x98e08d94e1174b0bfa2350c616d3cf2fb8f5e56c56c03dc0ae58fd29a6b29265', 'https://snapshot.org/#/uniswap/proposal/0x86ded24b11c4714e0f4f2b6e4ca489f60dc33e6f2f4ababa5575bf5ab973a005']\n"
     ]
    }
   ],
   "source": [
    "# URL setting : snapshot.org/#/uniswap/proposal/\"proposal ID\"\n",
    "URL_list = []\n",
    "base_url= \"https://snapshot.org/#/uniswap/proposal/\"\n",
    "for proposal_id in proposal_ID_list :\n",
    "    url = base_url + proposal_id\n",
    "    URL_list.append(url)\n",
    "\n",
    "print(URL_list)"
   ]
  },
  {
   "cell_type": "code",
   "execution_count": 59,
   "metadata": {},
   "outputs": [
    {
     "name": "stdout",
     "output_type": "stream",
     "text": [
      "File 0 downloaded successfully.\n",
      "File 1 downloaded successfully.\n",
      "File 2 downloaded successfully.\n",
      "File 3 downloaded successfully.\n",
      "File 4 downloaded successfully.\n",
      "Error while processing URL: https://snapshot.org/#/uniswap/proposal/QmU5sggJNTQmSQtxecdsAJxXn9fgSwYz1dXpSpDcgwAqqy. Error message: Message: no such element: Unable to locate element: {\"method\":\"xpath\",\"selector\":\"//*[@id=\"content-left\"]/div[3]/div/div[1]/button\"}\n",
      "  (Session info: chrome=114.0.5735.248); For documentation on this error, please visit: https://www.selenium.dev/documentation/webdriver/troubleshooting/errors#no-such-element-exception\n",
      "Stacktrace:\n",
      "Backtrace:\n",
      "\tGetHandleVerifier [0x00E1A813+48355]\n",
      "\t(No symbol) [0x00DAC4B1]\n",
      "\t(No symbol) [0x00CB5358]\n",
      "\t(No symbol) [0x00CE09A5]\n",
      "\t(No symbol) [0x00CE0B3B]\n",
      "\t(No symbol) [0x00D0E232]\n",
      "\t(No symbol) [0x00CFA784]\n",
      "\t(No symbol) [0x00D0C922]\n",
      "\t(No symbol) [0x00CFA536]\n",
      "\t(No symbol) [0x00CD82DC]\n",
      "\t(No symbol) [0x00CD93DD]\n",
      "\tGetHandleVerifier [0x0107AABD+2539405]\n",
      "\tGetHandleVerifier [0x010BA78F+2800735]\n",
      "\tGetHandleVerifier [0x010B456C+2775612]\n",
      "\tGetHandleVerifier [0x00EA51E0+616112]\n",
      "\t(No symbol) [0x00DB5F8C]\n",
      "\t(No symbol) [0x00DB2328]\n",
      "\t(No symbol) [0x00DB240B]\n",
      "\t(No symbol) [0x00DA4FF7]\n",
      "\tBaseThreadInitThunk [0x764000C9+25]\n",
      "\tRtlGetAppContainerNamedObjectPath [0x77D97B1E+286]\n",
      "\tRtlGetAppContainerNamedObjectPath [0x77D97AEE+238]\n",
      "\n",
      "File 6 downloaded successfully.\n",
      "File 7 downloaded successfully.\n",
      "File 8 downloaded successfully.\n",
      "File 9 downloaded successfully.\n",
      "File 10 downloaded successfully.\n",
      "File 11 downloaded successfully.\n",
      "File 12 downloaded successfully.\n",
      "File 13 downloaded successfully.\n",
      "File 14 downloaded successfully.\n",
      "File 15 downloaded successfully.\n",
      "File 16 downloaded successfully.\n",
      "File 17 downloaded successfully.\n",
      "File 18 downloaded successfully.\n",
      "File 19 downloaded successfully.\n",
      "File 20 downloaded successfully.\n",
      "File 21 downloaded successfully.\n",
      "File 22 downloaded successfully.\n",
      "File 23 downloaded successfully.\n",
      "File 24 downloaded successfully.\n",
      "File 25 downloaded successfully.\n",
      "File 26 downloaded successfully.\n",
      "File 27 downloaded successfully.\n",
      "File 28 downloaded successfully.\n",
      "File 29 downloaded successfully.\n",
      "File 30 downloaded successfully.\n",
      "File 31 downloaded successfully.\n",
      "File 32 downloaded successfully.\n",
      "File 33 downloaded successfully.\n",
      "File 34 downloaded successfully.\n",
      "File 35 downloaded successfully.\n",
      "File 36 downloaded successfully.\n",
      "File 37 downloaded successfully.\n",
      "File 38 downloaded successfully.\n",
      "File 39 downloaded successfully.\n",
      "File 40 downloaded successfully.\n",
      "File 41 downloaded successfully.\n",
      "File 42 downloaded successfully.\n",
      "File 43 downloaded successfully.\n",
      "File 44 downloaded successfully.\n",
      "File 45 downloaded successfully.\n",
      "File 46 downloaded successfully.\n",
      "File 47 downloaded successfully.\n",
      "File 48 downloaded successfully.\n",
      "File 49 downloaded successfully.\n",
      "File 50 downloaded successfully.\n",
      "File 51 downloaded successfully.\n",
      "File 52 downloaded successfully.\n",
      "File 53 downloaded successfully.\n",
      "File 54 downloaded successfully.\n",
      "File 55 downloaded successfully.\n",
      "File 56 downloaded successfully.\n",
      "File 57 downloaded successfully.\n",
      "File 58 downloaded successfully.\n",
      "File 59 downloaded successfully.\n",
      "File 60 downloaded successfully.\n",
      "File 61 downloaded successfully.\n",
      "File 62 downloaded successfully.\n",
      "File 63 downloaded successfully.\n",
      "File 64 downloaded successfully.\n",
      "Error while processing URL: https://snapshot.org/#/uniswap/proposal/0x8db45283c71ed4f72e5834212a10963b1b4a53527a175472ba8cc4ecdeebc6a2. Error message: File download failed for URL: https://snapshot.org/#/uniswap/proposal/0x8db45283c71ed4f72e5834212a10963b1b4a53527a175472ba8cc4ecdeebc6a2.\n",
      "Error while processing URL: https://snapshot.org/#/uniswap/proposal/0x255d43357e17858f8664ffaaeaf7660bfd8be5f7dabc414edf98d3fadb3f1588. Error message: File download failed for URL: https://snapshot.org/#/uniswap/proposal/0x255d43357e17858f8664ffaaeaf7660bfd8be5f7dabc414edf98d3fadb3f1588.\n",
      "File 67 downloaded successfully.\n",
      "File 68 downloaded successfully.\n",
      "File 69 downloaded successfully.\n",
      "File 70 downloaded successfully.\n",
      "File 71 downloaded successfully.\n",
      "File 72 downloaded successfully.\n",
      "File 73 downloaded successfully.\n",
      "File 74 downloaded successfully.\n",
      "File 75 downloaded successfully.\n",
      "File 76 downloaded successfully.\n",
      "File 77 downloaded successfully.\n",
      "File 78 downloaded successfully.\n",
      "File 79 downloaded successfully.\n",
      "File 80 downloaded successfully.\n",
      "File 81 downloaded successfully.\n",
      "File 82 downloaded successfully.\n",
      "File 83 downloaded successfully.\n",
      "File 84 downloaded successfully.\n",
      "File 85 downloaded successfully.\n",
      "File 86 downloaded successfully.\n",
      "File 87 downloaded successfully.\n",
      "File 88 downloaded successfully.\n",
      "Error while processing URL: https://snapshot.org/#/uniswap/proposal/0xa47a49305ab418cb2ceb9da1290cbe022671d5feeb5e2a344bfcd1edbe0720d6. Error message: File download failed for URL: https://snapshot.org/#/uniswap/proposal/0xa47a49305ab418cb2ceb9da1290cbe022671d5feeb5e2a344bfcd1edbe0720d6.\n",
      "Error while processing URL: https://snapshot.org/#/uniswap/proposal/0x4b362044000714197ab43d5f2155977976dcc7cf1cb28d945e1168ae7ac61f90. Error message: File download failed for URL: https://snapshot.org/#/uniswap/proposal/0x4b362044000714197ab43d5f2155977976dcc7cf1cb28d945e1168ae7ac61f90.\n",
      "File 91 downloaded successfully.\n",
      "File 92 downloaded successfully.\n",
      "File 93 downloaded successfully.\n",
      "File 94 downloaded successfully.\n",
      "File 95 downloaded successfully.\n"
     ]
    }
   ],
   "source": [
    "# Set the download directory path\n",
    "download_dir = r\"C:\\Users\\Administrator\\Desktop\\chunghyun\\python\\DAO_voting\\uniswap_voting_data\"\n",
    "\n",
    "# Set the maximum time to wait for an element (in seconds)\n",
    "implicit_wait_time = 10\n",
    "\n",
    "# Configure ChromeOptions to set the download directory\n",
    "options = Options()\n",
    "prefs = {\"download.default_directory\": download_dir}\n",
    "options.add_experimental_option(\"prefs\", prefs)\n",
    "\n",
    "# Start a new Chrome browser instance with the configured options\n",
    "driver = webdriver.Chrome(options=options)\n",
    "\n",
    "errored_url =[]\n",
    "try:\n",
    "    # Set the implicit wait\n",
    "    driver.implicitly_wait(implicit_wait_time)\n",
    "\n",
    "    for idx, url in enumerate(URL_list):\n",
    "        try:\n",
    "            # Open the URL in the browser\n",
    "            driver.get(url)\n",
    "\n",
    "            # Find and click the download button\n",
    "            download_button_xpath = '//*[@id=\"content-left\"]/div[3]/div/div[1]/button'\n",
    "            download_button = driver.find_element(By.XPATH, download_button_xpath)\n",
    "            download_button.click()\n",
    "\n",
    "            # Wait for the file to download (you can add an explicit wait here if needed)\n",
    "            # Here, we use a short sleep as a simple wait for demonstration purposes.\n",
    "            time.sleep(7)  # Adjust the wait time as needed\n",
    "\n",
    "            # Get a list of files in the download directory\n",
    "            downloaded_files = os.listdir(download_dir)\n",
    "            id = url.split(\"/\")[-1]\n",
    "\n",
    "            # Find the downloaded file name (assuming it is the only file downloaded in the directory)\n",
    "            downloaded_file_name = None\n",
    "            for file_name in downloaded_files:\n",
    "                if \"snapshot-report-\" + id in file_name:\n",
    "                    downloaded_file_name = file_name\n",
    "                    break\n",
    "\n",
    "            # Check if the expected file name exists\n",
    "            if downloaded_file_name is not None:\n",
    "                print(f\"File {idx} downloaded successfully.\")\n",
    "            else:\n",
    "                raise Exception(f\"File download failed for URL: {url}.\")\n",
    "\n",
    "        except Exception as e:\n",
    "            errored_url.append(url)\n",
    "            print(f\"Error while processing URL: {url}. Error message: {e}\")\n",
    "\n",
    "except Exception as e:\n",
    "    print(f\"Error: {e}\")\n",
    "\n",
    "finally:\n",
    "    # Close the browser\n",
    "    driver.quit()\n"
   ]
  },
  {
   "cell_type": "code",
   "execution_count": 61,
   "metadata": {},
   "outputs": [
    {
     "name": "stdout",
     "output_type": "stream",
     "text": [
      "['https://snapshot.org/#/uniswap/proposal/QmU5sggJNTQmSQtxecdsAJxXn9fgSwYz1dXpSpDcgwAqqy', 'https://snapshot.org/#/uniswap/proposal/0x8db45283c71ed4f72e5834212a10963b1b4a53527a175472ba8cc4ecdeebc6a2', 'https://snapshot.org/#/uniswap/proposal/0x255d43357e17858f8664ffaaeaf7660bfd8be5f7dabc414edf98d3fadb3f1588', 'https://snapshot.org/#/uniswap/proposal/0xa47a49305ab418cb2ceb9da1290cbe022671d5feeb5e2a344bfcd1edbe0720d6', 'https://snapshot.org/#/uniswap/proposal/0x4b362044000714197ab43d5f2155977976dcc7cf1cb28d945e1168ae7ac61f90']\n",
      "5\n"
     ]
    }
   ],
   "source": [
    "print(errored_url)\n",
    "print(len(errored_url))\n",
    "\n",
    "# https://snapshot.org/#/uniswap/proposal/QmU5sggJNTQmSQtxecdsAJxXn9fgSwYz1dXpSpDcgwAqqy -> download unavilable\n",
    "# manually download \n",
    "    # https://snapshot.org/#/uniswap/proposal/0x8db45283c71ed4f72e5834212a10963b1b4a53527a175472ba8cc4ecdeebc6a2\n",
    "    # https://snapshot.org/#/uniswap/proposal/0x255d43357e17858f8664ffaaeaf7660bfd8be5f7dabc414edf98d3fadb3f1588\n",
    "    # https://snapshot.org/#/uniswap/proposal/0xa47a49305ab418cb2ceb9da1290cbe022671d5feeb5e2a344bfcd1edbe0720d6\n",
    "    # https://snapshot.org/#/uniswap/proposal/0x4b362044000714197ab43d5f2155977976dcc7cf1cb28d945e1168ae7ac61f90\n"
   ]
  },
  {
   "cell_type": "code",
   "execution_count": 63,
   "metadata": {},
   "outputs": [
    {
     "name": "stdout",
     "output_type": "stream",
     "text": [
      "['snapshot-report-0x0f8a85d90759acf3a6fdc018e20b991f3562847122a8142c4e166c71d0e755e3.csv', 'snapshot-report-0x15031b68121659b87a3f5e33c303cd517bcbc003d3f60fc82f1299620475bcab.csv', 'snapshot-report-0x1994d4598b81dbb511bc7068f65a12fdf0ddbf2b26f5b7313e087750c5f9c0b7.csv', 'snapshot-report-0x1bf2c3fb48e31f4e006ce6349967088fc726cbf1d1518eca60babfe44e9e2895.csv', 'snapshot-report-0x255d43357e17858f8664ffaaeaf7660bfd8be5f7dabc414edf98d3fadb3f1588.csv', 'snapshot-report-0x2f72d9f247d9ce143809bbb4af7f5b36aa50895e517cc32096b15b18b40e3191.csv', 'snapshot-report-0x31c3409c09f5561d6aff1e0adeee6c83a5e73768a5d5c3e01b2a48a3894eda54.csv', 'snapshot-report-0x3447c5c95e70304122194efb2874757059f0851cc7449e58682f48a25e4ce7ba.csv', 'snapshot-report-0x36a17f6c311f3d910bc11cb4cd55891a7e6c71facd04e7bffcfb267fdd88c45b.csv', 'snapshot-report-0x374d7f9ba673e65d6a85c3cfcc082fd3ad22ca5d8f9f44ac14e1d67154640d90.csv', 'snapshot-report-0x387b5e811e9673359b98729af5c7f14a50b7d0ea9b4dcf9278686b238932e25d.csv', 'snapshot-report-0x47a6eed75673f33e8eb5d7abbfc0279d8c113ec7fa51f8b61c1abcd66dc091c6.csv', 'snapshot-report-0x4b362044000714197ab43d5f2155977976dcc7cf1cb28d945e1168ae7ac61f90.csv', 'snapshot-report-0x4dd49ee723a7e506c6c6c15c8eabc8a7057f3f0760e44ed2f475d42203c4e3e8.csv', 'snapshot-report-0x4f42b3215c4028edd947dc69980a9b8ba837ffbe3d0caa60d999406d634c8e79.csv', 'snapshot-report-0x4fdc5d5c87669d3c99072541e1c775f8dee9b906241b2ce22203737b608c8e55.csv', 'snapshot-report-0x5387b0756442268d283d4ac7f3f4bc4cc0204c5e47b9708e5128fcbdea2d0cd1.csv', 'snapshot-report-0x5ad7208d9ccad93dbc96abc12bfeffcfe83e96b9782e5135727cdaaf494d70f3.csv', 'snapshot-report-0x63f6c44e4245e5b90a0f30ebb6932506879f68b149a5f78fd2186125c9144535.csv', 'snapshot-report-0x68ed38529f4d81957cf30a3c441b93d321dcf14273c2e2f3aa32617bd1ac65fe.csv', 'snapshot-report-0x6b8df360fdf73085b21fdf5eef9f85916fbde95621a3d454cb20fbe545ffc852.csv', 'snapshot-report-0x729c19f1cafab8ed884914549e147ef401532cf6680e340a1aa0c8cc65f35f09.csv', 'snapshot-report-0x73021d63f985aba8e42c67165f80c0027a591980a5cc372cda9637bdf2173f95.csv', 'snapshot-report-0x7f196c3444623a33ac147d1676d84e45d3c4c56a94baa85547b77d6fab82faab.csv', 'snapshot-report-0x85a309c742abb3daf8e2d73a6c940c5315b3bf42ab8a8b22340d6e91cb3e8bde.csv', 'snapshot-report-0x86ded24b11c4714e0f4f2b6e4ca489f60dc33e6f2f4ababa5575bf5ab973a005.csv', 'snapshot-report-0x8cd74072d4ae997c11fe5351c3a8c3fcd05440091858c1ced911bb2e9043c3bb.csv', 'snapshot-report-0x8db45283c71ed4f72e5834212a10963b1b4a53527a175472ba8cc4ecdeebc6a2.csv', 'snapshot-report-0x9238864aae86f3f7430670dab6c2b4afd793ddcdabe8e2dffe0964d41a3919aa.csv', 'snapshot-report-0x92a16fbf16e7b113700bb2a20b3ca1b71ce678c4b818983e7412eb059cff776a.csv', 'snapshot-report-0x98e08d94e1174b0bfa2350c616d3cf2fb8f5e56c56c03dc0ae58fd29a6b29265.csv', 'snapshot-report-0x9db793de052692853aa3749920e1c7161de0eead4730c3fef516bc11eb829879.csv', 'snapshot-report-0xa3c7247632d3a08e4e73a63867908d0cd4402f48fa673945f93e3197dee5450a.csv', 'snapshot-report-0xa47404722b9c8a6fb850cf5de79e8a95f073f06393290949644a627bfe85bced.csv', 'snapshot-report-0xa47a49305ab418cb2ceb9da1290cbe022671d5feeb5e2a344bfcd1edbe0720d6.csv', 'snapshot-report-0xa4a21c808b28a61562c6b4ebf5b71c0cd37ee2d630bcbdf91ffaf5f683cc650f.csv', 'snapshot-report-0xa5b0e54358d8a0bff4b90461873cd4bec83e57d7b87f2e18b9a4ff81539b21ca.csv', 'snapshot-report-0xab1dbb6e3486073b81cc64b81d15d24a7bf82efcfc94e533de0779250df06ba9.csv', 'snapshot-report-0xac6b9ebb8cff7817fdf144119742e474dfeec984632ab374727770579e2653ed.csv', 'snapshot-report-0xb328c7583c0f1ea85f8a273dd36977c95e47c3713744caf7143e68b65efcc8a5.csv', 'snapshot-report-0xb471984c1daef6742be4d4983339af7ad140c3dfcfc883508fd975f5abe0e8c9.csv', 'snapshot-report-0xb643c2ccb468812901c9490dbb31c5aada0140e83d0f6ce30e04fc7a237748e8.csv', 'snapshot-report-0xbab5cd9d9cc5123ea5da8eb45e321463f1a0fd2543dc17587db1f24099d90dfc.csv', 'snapshot-report-0xbadf3b39b681c98ba8fb988d5b6c9454ebeb5aae88545a6a852d0734e9f7c957.csv', 'snapshot-report-0xbfeb7f3c4a3f1d4979b59129f9a78ee217183b0656a480612d261233fb3f8c62.csv', 'snapshot-report-0xc1aec11c9ac5698920072a5de807284a56becbadfb7bef68b2618ad00e61547c.csv', 'snapshot-report-0xd70b3e84db501c2633bc8189fcfc335726fce90584a3c37f6155580369f11023.csv', 'snapshot-report-0xdc3e034f9b7c876736f1b629c7c9ff9c466205dfe075607d70e69b6af2fa87ef.csv', 'snapshot-report-0xe377d2b8e245404c42a6892be4232e017bf44b7fcc2e72426aa95ea5a4e01783.csv', 'snapshot-report-0xe3d59b3439ac0519b02ff39606e0ad571cc9fa7a05b334b6f87df09b2c883879.csv', 'snapshot-report-0xe523d31000db5ecb16b002efd2ee984b958928b01cee140212eefc3ed5bcdfcd.csv', 'snapshot-report-0xe6ad2033b04559b3db6be7fa9993f05ee68f43f1061c632382c88e367e76bfb1.csv', 'snapshot-report-0xe869bc63ed483f00c520129724934a206b433dec613a498100e25f9f10fbeac7.csv', 'snapshot-report-0xe9f8e5dd7ec26f7c0e7dd9e19bb8d57497d27d4a74be01cd3cad159cf3901b7f.csv', 'snapshot-report-0xee4851601143b1e9655be7168ca2d0f119fba31afadf2a7f808ea12b7bb4e9df.csv', 'snapshot-report-0xfb9841f0cd2111b078ffbcc9efe5a0d552907ee290b0851c8d69350b26530ed0.csv', 'snapshot-report-0xfd3d3807bd2a6eda1327c311b83de235061d39ff1bdfb616c9f9b0d367c3ac2c.csv', 'snapshot-report-Qma8KF8jTV3kwBFdjfwE9jvLpPYVMdY6RVS9pJZ6QGEur6.csv', 'snapshot-report-QmaG6nJYW3xLeQwAa6xxhpbuYS8h6PVQpbx1vfqpqxAtik.csv', 'snapshot-report-QmaKjvEAUL5RxoZeNQJKJZR8rHxiE6XNzzVrm1oLCr69MV.csv', 'snapshot-report-QmaUPBYqkiKnwkaVNVrUDpD6fk5EXXTqJjn71qHNYW4YQn.csv', 'snapshot-report-QmbVVJ57NFq9ipgt3YY9S1NyN5s5ziswgHSPWfXNvuzwgx.csv', 'snapshot-report-QmcpJ8Qm9V4LfK5ncpPvGpCEkzt2uV9jahueX2CR9YLGVv.csv', 'snapshot-report-Qmcs5pAv7eGBzqGn1G8LJGusME3t7bTCSfZjdyWmw88LaM.csv', 'snapshot-report-QmcVpxCSkL8rPmZgow8uL2GbdPZtUKS3huY9aSExKNfEK6.csv', 'snapshot-report-QmcZGhUoTEGGQWMrEXBcCwCenjSQRTJdhta4JYyVEWnN24.csv', 'snapshot-report-Qme9MASbuzrX2W6o7e4CCKqQiLGS5yuBLmX8wkeM5awcio.csv', 'snapshot-report-Qmehop1NNWP9VEf7tGLEAYRphVsXtdxkL7oKEhaXL2Xao6.csv', 'snapshot-report-Qmeza7LnzTLAGhHeA2psNtf1ua4kgm2Q1NHAMPeVzs5C2i.csv', 'snapshot-report-QmNPvJSYqtpN8JeReGACfPJNx7yXZrsrcAKDsjHvbx3Pu3.csv', 'snapshot-report-QmP3H8WGLiWTP2WumKyrq8yA1xz1XbwkT8brdGYePuAcES.csv', 'snapshot-report-QmPe3FKu44mtGKvKmBDxVGkV9256BCcTf7TZ4cfugYdqRn.csv', 'snapshot-report-QmQbcxLpGENeDauCAsh3BXy9H9fiiK46JEfnLqG3s8iMbN.csv', 'snapshot-report-QmRKpArENVfj7bUaXuEj2QUqZCB5ZJGc9VDmNvyfTKnAKf.csv', 'snapshot-report-QmRKyYeGRFAhBnsqRXHVVwpmmVWxWdybUTVqLM7c52EonT.csv', 'snapshot-report-QmScNLeajiF2hQh1z9DYqTFKGgrRhHwrHisV4ynmDEQwxH.csv', 'snapshot-report-QmShiKX75iBo321NKLG9tFFb3EuNM58i8kvWaYLp1HBwCR.csv', 'snapshot-report-QmTj8EWNTTinpDa9aXZdVkhzPBXD2monu6ZFV1dfoojR2f.csv', 'snapshot-report-QmTksCuBh2HLMKSXUE7yyCHGE9dCevac9oEWnkef8Junn2.csv', 'snapshot-report-QmTyWBn3PcBcFeuwKcjwAu5DZypVTK3aGuQ6EGQPFghgtX.csv', 'snapshot-report-QmUMGd8r249PEEbVkF8z7ftEyvRBhtFA3T3oHMxhSJcFJ9.csv', 'snapshot-report-QmUrYMZrS97ZA5FeSAgs6xk7qNong5pjwXkQyYi7M6WmkC.csv', 'snapshot-report-QmV8ZeseHEoAcGj51kGaC6gVF2BkL9BHACJDAaQ74uiaJi.csv', 'snapshot-report-QmVnsMXvSG84x3u2iYZ3nGWeXU4pRcfuKWwXnyjpD9j6To.csv', 'snapshot-report-QmVXXEXJJKjFJtwXyy4Xx3gBckhz6TvorZoLgX3yiB7Hki.csv', 'snapshot-report-QmWbGN8xaYzBpnJ4DKg245XXKQ68FSqpFxvDGKnNHQjKdj.csv', 'snapshot-report-QmWbgzHJ8nK2TDaj6LF6BxAMPahy97dMmbbU5kRBw1QkXt.csv', 'snapshot-report-QmWe6Krc81pkCtQFbd2AxytFCp1imLGUnFTEEom9YNwFte.csv', 'snapshot-report-QmWhemJom3RZdH91rBPmjvAFZEr9HdFRSFVNtAae6kgbyE.csv', 'snapshot-report-QmX6y6Koqc82o7TSSnmw793RbyJMUfrRStr1wsTvCy4Ynj.csv', 'snapshot-report-QmXDNKm4feLGUXCdtHjHZYrNTMsysEhP34nRYFSM3HhKVT.csv', 'snapshot-report-QmYeNLn1x2AxfzrU2G4nkxDRBDju9f4EF2dzs2xAqBoK31.csv', 'snapshot-report-QmZ2D27uouvVEHGuRvydwmwepgL2PEXbGzYAXqYr9bMwLo.csv', 'snapshot-report-QmZcfEhN6xx6mMyo6ins4pSMga7N3o14fW4VtFzYTRHuLj.csv', 'snapshot-report-QmZUeeJEoEp4Z1oLzMcXbWJyu4WNvHF9p8uHjz97T5nD3m.csv']\n"
     ]
    }
   ],
   "source": [
    "# error check\n",
    "folder_path = r\"C:\\Users\\Administrator\\Desktop\\chunghyun\\python\\DAO_voting\\uniswap_voting_data\"\n",
    "file_names = os.listdir(folder_path)\n",
    "print(file_names)"
   ]
  },
  {
   "cell_type": "code",
   "execution_count": 83,
   "metadata": {},
   "outputs": [],
   "source": [
    "proposal_ID_list.remove(\"QmU5sggJNTQmSQtxecdsAJxXn9fgSwYz1dXpSpDcgwAqqy\")"
   ]
  },
  {
   "cell_type": "code",
   "execution_count": 80,
   "metadata": {},
   "outputs": [
    {
     "name": "stdout",
     "output_type": "stream",
     "text": [
      "95\n"
     ]
    }
   ],
   "source": [
    "print(len(proposal_ID_list))"
   ]
  },
  {
   "cell_type": "code",
   "execution_count": 84,
   "metadata": {},
   "outputs": [
    {
     "name": "stdout",
     "output_type": "stream",
     "text": [
      "The elements of the two lists are the same.\n"
     ]
    }
   ],
   "source": [
    "# Error check \n",
    "checking_list = []\n",
    "for file_name in file_names :\n",
    "    check_file_name = file_name.split('-')[-1].split('.')[0]\n",
    "    checking_list.append(check_file_name)\n",
    "    \n",
    "# Convert both lists into sets\n",
    "checking_set = set(checking_list)\n",
    "proposal_ID_set = set(proposal_ID_list)\n",
    "\n",
    "# Check if the sets are equal\n",
    "if checking_set == proposal_ID_set:\n",
    "    print(\"The elements of the two lists are the same.\")\n",
    "else:\n",
    "    print(\"The elements of the two lists are different.\")"
   ]
  },
  {
   "cell_type": "code",
   "execution_count": 89,
   "metadata": {},
   "outputs": [],
   "source": [
    "# duplicted authors \n",
    "csv_file = \"C:/Users/Administrator/Desktop/chunghyun/python/DAO_voting/Uniswap_proposals_snapshot.csv\"\n",
    "df = pd.read_csv(csv_file)\n",
    "\n",
    "# Extracting Proposal author list \n",
    "proposal_author_list = df['author'].tolist()\n",
    "proposal_author_list.remove('0x3b499Ac151097Dc9d32E056074E1e541a1ba9e2D')\n",
    "author_counter = Counter(proposal_author_list)\n",
    "data = pd.DataFrame(list(author_counter.items()), columns=[\"Author\", \"Count\"])\n",
    "\n",
    "# Specify the path for the CSV file\n",
    "csv_file_path = \"proposal_author_counts.csv\"\n",
    "\n",
    "# Write the data to the CSV file\n",
    "data.to_csv(csv_file_path, index=False)"
   ]
  }
 ],
 "metadata": {
  "kernelspec": {
   "display_name": "dao_voting",
   "language": "python",
   "name": "python3"
  },
  "language_info": {
   "codemirror_mode": {
    "name": "ipython",
    "version": 3
   },
   "file_extension": ".py",
   "mimetype": "text/x-python",
   "name": "python",
   "nbconvert_exporter": "python",
   "pygments_lexer": "ipython3",
   "version": "3.11.3"
  },
  "orig_nbformat": 4
 },
 "nbformat": 4,
 "nbformat_minor": 2
}
